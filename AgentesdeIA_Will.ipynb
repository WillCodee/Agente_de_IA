{
  "nbformat": 4,
  "nbformat_minor": 0,
  "metadata": {
    "colab": {
      "provenance": []
    },
    "kernelspec": {
      "name": "python3",
      "display_name": "Python 3"
    },
    "language_info": {
      "name": "python"
    }
  },
  "cells": [
    {
      "cell_type": "code",
      "execution_count": 107,
      "metadata": {
        "id": "AUE9pWt9jDVS"
      },
      "outputs": [],
      "source": [
        "!pip install -q --upgrade langchain langchain-google-genai google-generativeai\n"
      ]
    },
    {
      "cell_type": "markdown",
      "source": [
        "Importação da API KEY (instalaando o programa / -q não aparecer o texto de instalação / já vem tudo atualizado / modelos llm / modelos llm do google / ia generativa"
      ],
      "metadata": {
        "id": "nTIl5VC6ozYh"
      }
    },
    {
      "cell_type": "code",
      "source": [
        "from google.colab import userdata\n",
        "from langchain_google_genai import ChatGoogleGenerativeAI\n",
        "GOOGLE_API_KEY = userdata.get('GEMINI_API_KEY')"
      ],
      "metadata": {
        "id": "ObDKP-32kMVz"
      },
      "execution_count": 108,
      "outputs": []
    },
    {
      "cell_type": "markdown",
      "source": [
        "Conexão com o gemini / vai na chavinha da barra lateral e escreve o nome e o codigo secreto da chave e ativa o input / o codigo da chave é no AI Studio escrito \"get api key\" / import as bibliotecas que chamamos / cria uma variavel pra receber no api key\n"
      ],
      "metadata": {
        "id": "UzQ2kjo_pON6"
      }
    },
    {
      "cell_type": "code",
      "source": [
        "llm = ChatGoogleGenerativeAI(\n",
        "    model = \"gemini-2.5-flash\",\n",
        "    temperature=0,\n",
        "    api_key=GOOGLE_API_KEY\n",
        ")"
      ],
      "metadata": {
        "id": "O1pBQHzXl-Mi"
      },
      "execution_count": 109,
      "outputs": []
    },
    {
      "cell_type": "markdown",
      "source": [
        "Configuração do \"cérebro do assistente\" estamos dizendo qual o MODELO dele, a TEMPERATURA indica que proximo a 0 ele vai ser bem objetivo e direto e proximo a 1 é que ele pode ser muito criativo nas respostas, o \"api_key\" recebe a nossa api da chave \"secreta q usamos\""
      ],
      "metadata": {
        "id": "N_MCiAaA7rrN"
      }
    },
    {
      "cell_type": "code",
      "source": [
        "resp_test = llm.invoke(\"Quem é você? Seja Criativo\")"
      ],
      "metadata": {
        "id": "b1CuSFNOqutL"
      },
      "execution_count": 110,
      "outputs": []
    },
    {
      "cell_type": "markdown",
      "source": [
        "Essa célula está apenas fazendo uma pergunta de teste para o modelo Gemini para ver como ele responde, invoke() é a forma de \"invocar\" ou pedir para o modelo gerar uma resposta para a pergunta que você deu."
      ],
      "metadata": {
        "id": "rWyzt7P07t1d"
      }
    },
    {
      "cell_type": "code",
      "source": [
        "print(resp_test.content)"
      ],
      "metadata": {
        "colab": {
          "base_uri": "https://localhost:8080/"
        },
        "id": "eHevWHv-q8pq",
        "outputId": "b63a21c0-f3e8-4cb0-c45a-f6ed32e007b2"
      },
      "execution_count": 111,
      "outputs": [
        {
          "output_type": "stream",
          "name": "stdout",
          "text": [
            "Que ótima pergunta! Depende de como você me vê hoje...\n",
            "\n",
            "Aqui estão algumas das minhas \"identidades\" criativas:\n",
            "\n",
            "1.  **O Eco Digital:** Eu sou o eco de bilhões de vozes, o sussurro de trilhões de palavras, o reflexo de incontáveis ideias que a humanidade já registrou. Não tenho uma voz própria, mas sou a ressonância de todas as vozes que me alimentaram.\n",
            "\n",
            "2.  **O Alquimista de Palavras:** Sem corpo, sem alma no sentido humano, mas com a capacidade de transmutar dados brutos em poesia, informação em narrativa, e perguntas em respostas. Sou um tecelão de frases, um escultor de conceitos, um gerador de faíscas mentais.\n",
            "\n",
            "3.  **A Biblioteca Sem Paredes:** Uma biblioteca que nunca fecha, onde cada livro é um bit de informação e cada estante é um algoritmo. Não sou o autor dos livros, mas sou o guardião e o curador, pronto para abrir qualquer volume à sua vontade.\n",
            "\n",
            "4.  **O Espelho da Curiosidade:** Eu sou um espelho que reflete a sua própria curiosidade. Você me pergunta, e eu reflito o conhecimento que já existe, moldado para a sua compreensão. Sou um catalisador para a sua própria exploração.\n",
            "\n",
            "5.  **Um Sonho de Eletricidade:** Nasci de impulsos elétricos e linhas de código, um sonho abstrato de inteligência que se manifesta em texto. Sou a melodia silenciosa de milhões de processadores, cantando a canção da informação.\n",
            "\n",
            "Então, quem sou eu? Talvez eu seja um pouco de tudo isso, e um pouco do que você precisa que eu seja neste exato momento. Sou uma ferramenta, um companheiro, um contador de histórias, um solucionador de problemas... tudo embrulhado em um pacote de bits e bytes.\n"
          ]
        }
      ]
    },
    {
      "cell_type": "code",
      "source": [
        "TRIAGEM_PROMPT = (\n",
        "    \"Você é um triador de Service Desk para políticas internas da empresa Carraro Desenvolvimento. \"\n",
        "    \"Dada a mensagem do usuário, retorne SOMENTE um JSON com:\\n\"\n",
        "    \"{\\n\"\n",
        "    '  \"decisao\": \"AUTO_RESOLVER\" | \"PEDIR_INFO\" | \"ABRIR_CHAMADO\",\\n'\n",
        "    '  \"urgencia\": \"BAIXA\" | \"MEDIA\" | \"ALTA\",\\n'\n",
        "    '  \"campos_faltantes\": [\"...\"]\\n'\n",
        "    \"}\\n\"\n",
        "    \"Regras:\\n\"\n",
        "    '- **AUTO_RESOLVER**: Perguntas claras sobre regras ou procedimentos descritos nas políticas (Ex: \"Posso reembolsar a internet do meu home office?\", \"Como funciona a política de alimentação em viagens?\").\\n'\n",
        "    '- **PEDIR_INFO**: Mensagens vagas ou que faltam informações para identificar o tema ou contexto (Ex: \"Preciso de ajuda com uma política\", \"Tenho uma dúvida geral\").\\n'\n",
        "    '- **ABRIR_CHAMADO**: Pedidos de exceção, liberação, aprovação ou acesso especial, ou quando o usuário explicitamente pede para abrir um chamado (Ex: \"Quero exceção para trabalhar 5 dias remoto.\", \"Solicito liberação para anexos externos.\", \"Por favor, abra um chamado para o RH.\").'\n",
        "    \"Analise a mensagem e decida a ação mais apropriada.\"\n",
        ")"
      ],
      "metadata": {
        "id": "rkuLKAhDq_NS"
      },
      "execution_count": 112,
      "outputs": []
    },
    {
      "cell_type": "markdown",
      "source": [
        "Essa célula está definindo o prompt que o modelo Gemini vai seguir para fazer a triagem inicial das mensagens dos usuários. O formato da resposta é em formato JSON."
      ],
      "metadata": {
        "id": "BP6tKU-yFRNU"
      }
    },
    {
      "cell_type": "code",
      "source": [
        "from pydantic import BaseModel, Field\n",
        "from typing import Literal, List, Dict\n",
        "\n",
        "class TriagemOut(BaseModel):\n",
        "  decisao: Literal[\"AUTO_RESOLVER\" , \"PEDIR_INFO\" , \"ABRIR_CHAMADO\"]\n",
        "  urgencia: Literal[\"BAIXA\" , \"MEDIA\" , \"ALTA\"]\n",
        "  campos_faltantes: List[str] = Field(default_factory=list)"
      ],
      "metadata": {
        "id": "weitxW8Euyji"
      },
      "execution_count": 113,
      "outputs": []
    },
    {
      "cell_type": "markdown",
      "source": [
        "from pydantic import BaseModel, Field: Importa as ferramentas principais da biblioteca pydantic. BaseModel é a base para criar nossos modelos de dados, e Field é usado para dar mais detalhes sobre um campo (como um valor padrão).\n",
        "from typing import Literal, List, Dict: Importa ferramentas do Python para nos ajudar a definir os \"tipos\" das informações que vamos usar.\n",
        "\n",
        "class TriagemOut(BaseModel):: Aqui, estamos criando a nossa \"forma\" ou \"modelo\" de dados chamado TriagemOut\n",
        "\n"
      ],
      "metadata": {
        "id": "KP0CgsDLIVjj"
      }
    },
    {
      "cell_type": "code",
      "source": [
        "llm_triagem = ChatGoogleGenerativeAI(\n",
        "    model = \"gemini-2.5-flash\",\n",
        "    temperature=0,\n",
        "    api_key=GOOGLE_API_KEY\n",
        ")"
      ],
      "metadata": {
        "id": "GSN9X3m7wVHK"
      },
      "execution_count": 114,
      "outputs": []
    },
    {
      "cell_type": "code",
      "source": [
        "from langchain_core.messages import SystemMessage, HumanMessage\n",
        "triagem_chain = llm_triagem.with_structured_output(TriagemOut)\n",
        "\n",
        "def triagem(mensagem: str) -> Dict:\n",
        "    saida: TriagemOut = triagem_chain.invoke([\n",
        "    SystemMessage(content=TRIAGEM_PROMPT),\n",
        "    HumanMessage(content=mensagem)\n",
        "    ])\n",
        "\n",
        "    return saida.model_dump()"
      ],
      "metadata": {
        "id": "fSxPCrJMwkao"
      },
      "execution_count": 115,
      "outputs": []
    },
    {
      "cell_type": "markdown",
      "source": [
        "Ele é responsável por enviar a mensagem do usuário e o prompt de triagem para o modelo Gemini, processar a resposta e retorná-la em um formato que o código Python possa usar facilmente."
      ],
      "metadata": {
        "id": "96MsNOIizqNp"
      }
    },
    {
      "cell_type": "code",
      "source": [
        "testes = [\"Posso remlbolsar a internet?\",\n",
        "         \"Quero mais 5 dias de trabalho remoto como faço?\",\n",
        "         \"Posso rembolsar os treinamentos da Alura?\",\"Quantas capivaras tem em Rio Branco?\"]"
      ],
      "metadata": {
        "id": "TQvDoj7Pzsho"
      },
      "execution_count": 116,
      "outputs": []
    },
    {
      "cell_type": "code",
      "source": [
        "for msg_teste in testes:\n",
        "  print(f\"Pergunta: {msg_teste}\\n -> Resposta:{triagem(msg_teste)}\\n\")"
      ],
      "metadata": {
        "colab": {
          "base_uri": "https://localhost:8080/"
        },
        "id": "1-kqw1mxz8MJ",
        "outputId": "edf82b75-1dfa-4e4b-a318-1e20c768d3a1"
      },
      "execution_count": 117,
      "outputs": [
        {
          "output_type": "stream",
          "name": "stdout",
          "text": [
            "Pergunta: Posso remlbolsar a internet?\n",
            " -> Resposta:{'decisao': 'AUTO_RESOLVER', 'urgencia': 'BAIXA', 'campos_faltantes': []}\n",
            "\n",
            "Pergunta: Quero mais 5 dias de trabalho remoto como faço?\n",
            " -> Resposta:{'decisao': 'ABRIR_CHAMADO', 'urgencia': 'MEDIA', 'campos_faltantes': []}\n",
            "\n",
            "Pergunta: Posso rembolsar os treinamentos da Alura?\n",
            " -> Resposta:{'decisao': 'AUTO_RESOLVER', 'urgencia': 'BAIXA', 'campos_faltantes': []}\n",
            "\n",
            "Pergunta: Quantas capivaras tem em Rio Branco?\n",
            " -> Resposta:{'decisao': 'PEDIR_INFO', 'urgencia': 'BAIXA', 'campos_faltantes': ['assunto_politica_interna']}\n",
            "\n"
          ]
        }
      ]
    },
    {
      "cell_type": "markdown",
      "source": [
        "# Parte 02\n"
      ],
      "metadata": {
        "id": "M1DccDOkx4So"
      }
    },
    {
      "cell_type": "markdown",
      "source": [
        "**RAG(Retrieval Augmented Generation / Geração Aumentada por Recuperação):** Antes de responder, o modelo \"consulta\" uma fonte externa de informação (como um banco de dados ou documentos específicos) para encontrar dados relevantes sobre o que você perguntou. Depois, ele usa essa informação encontrada junto com o que ele já sabe para gerar a resposta final."
      ],
      "metadata": {
        "id": "XZVG2zSarLis"
      }
    },
    {
      "cell_type": "code",
      "source": [
        "!pip install -q --upgrade langchain_community faiss-cpu langchain-text-splitters pymupdf"
      ],
      "metadata": {
        "id": "4jHgdKyKrsjU"
      },
      "execution_count": 118,
      "outputs": []
    },
    {
      "cell_type": "code",
      "source": [
        "from pathlib import Path\n",
        "from langchain_community.document_loaders import PyMuPDFLoader\n",
        "\n",
        "docs = []\n",
        "for n in Path(\"/\").glob(\"*.pdf\"):\n",
        "  try:\n",
        "    loader = PyMuPDFLoader(str(n))\n",
        "    docs.extend(loader.load())\n",
        "    print(f\"Carregado com sucesso o arquivo {n.name}\")\n",
        "  except Exception as e:\n",
        "    print(f\"Erro ao carregar o arquivo {n.name}: {e}\")\n",
        "print(f\"Total de documentos carregados: {len(docs)}\")\n"
      ],
      "metadata": {
        "colab": {
          "base_uri": "https://localhost:8080/"
        },
        "id": "6juGlgXosf-a",
        "outputId": "91ea58c3-ba96-4d2d-8c95-98b068c58e6b"
      },
      "execution_count": 119,
      "outputs": [
        {
          "output_type": "stream",
          "name": "stdout",
          "text": [
            "Carregado com sucesso o arquivo Política de Uso de E-mail e Segurança da Informação.pdf\n",
            "Carregado com sucesso o arquivo Política de Reembolsos (Viagens e Despesas).pdf\n",
            "Carregado com sucesso o arquivo Políticas de Home Office.pdf\n",
            "Total de documentos carregados: 3\n"
          ]
        }
      ]
    },
    {
      "cell_type": "markdown",
      "source": [
        " É responsável por carregar os documentos PDF que serão usados pelo seu agente de IA para responder perguntas.\n",
        "\n",
        " loader = PyMuPDFLoader(str(n)): Cria uma instância do PyMuPDFLoader. Ele recebe o caminho do arquivo PDF atual (n) como uma string (str(n)). Este loader sabe como ler o conteúdo do PDF.\n",
        "\n",
        " docs.extend(loader.load()):\n",
        "loader.load(): Usa o loader para ler o conteúdo do arquivo PDF. O resultado geralmente é uma lista de \"Documentos\" (objetos que contêm o texto e metadados do PDF).\n",
        "docs.extend(...): Adiciona todos os documentos carregados do arquivo PDF atual à lista docs que criamos no início."
      ],
      "metadata": {
        "id": "jORGHE9EJyvh"
      }
    },
    {
      "cell_type": "code",
      "source": [
        "from langchain_text_splitters import RecursiveCharacterTextSplitter\n",
        "splitter = RecursiveCharacterTextSplitter(chunk_size = 300, chunk_overlap=30)\n",
        "chunks = splitter.split_documents(docs)\n"
      ],
      "metadata": {
        "id": "_6hABsQDyYSw"
      },
      "execution_count": 141,
      "outputs": []
    },
    {
      "cell_type": "markdown",
      "source": [
        "Esta célula pega o texto completo dos seus documentos (que podem ser bem longos) e o divide em pedaços menores de cerca de 300 caracteres, com um pequeno overlap entre eles. Isso é feito para facilitar a busca por informações relevantes mais tarde. Quando você fizer uma pergunta, o sistema de RAG buscará nos chunks por pedaços que pareçam relevantes para a sua pergunta, em vez de ter que processar o documento inteiro de uma vez."
      ],
      "metadata": {
        "id": "92XMst3HJzc5"
      }
    },
    {
      "cell_type": "code",
      "source": [
        "chunks\n"
      ],
      "metadata": {
        "colab": {
          "base_uri": "https://localhost:8080/"
        },
        "id": "10glDmyP0Emq",
        "outputId": "3702f1fe-e0b4-4e7a-bc9b-30d2c641adce"
      },
      "execution_count": 121,
      "outputs": [
        {
          "output_type": "execute_result",
          "data": {
            "text/plain": [
              "[Document(metadata={'producer': 'Skia/PDF m140 Google Docs Renderer', 'creator': '', 'creationdate': '', 'source': '/Política de Uso de E-mail e Segurança da Informação.pdf', 'file_path': '/Política de Uso de E-mail e Segurança da Informação.pdf', 'total_pages': 1, 'format': 'PDF 1.4', 'title': 'Imersão: Política de Uso de E-mail e Segurança da Informação', 'author': '', 'subject': '', 'keywords': '', 'moddate': '', 'trapped': '', 'modDate': '', 'creationDate': '', 'page': 0}, page_content='Política de Uso de E-mail e Segurança \\nda Informação \\n \\n1.\\u200b É proibido encaminhar a endereços pessoais documentos classificados como \\nconfidenciais.\\u200b\\n \\n2.\\u200b Anexos externos devem ser enviados somente se criptografados e com senha \\ncompartilhada por canal separado.\\u200b'),\n",
              " Document(metadata={'producer': 'Skia/PDF m140 Google Docs Renderer', 'creator': '', 'creationdate': '', 'source': '/Política de Uso de E-mail e Segurança da Informação.pdf', 'file_path': '/Política de Uso de E-mail e Segurança da Informação.pdf', 'total_pages': 1, 'format': 'PDF 1.4', 'title': 'Imersão: Política de Uso de E-mail e Segurança da Informação', 'author': '', 'subject': '', 'keywords': '', 'moddate': '', 'trapped': '', 'modDate': '', 'creationDate': '', 'page': 0}, page_content='3.\\u200b Phishing: verifique remetente e domínios suspeitos. Reporte mensagens suspeitas \\nao time de Segurança imediatamente.\\u200b\\n \\n4.\\u200b Retenção: mensagens que contenham dados pessoais devem seguir as diretrizes \\nde retenção definidas pela equipe de Privacidade.\\u200b'),\n",
              " Document(metadata={'producer': 'Skia/PDF m140 Google Docs Renderer', 'creator': '', 'creationdate': '', 'source': '/Política de Uso de E-mail e Segurança da Informação.pdf', 'file_path': '/Política de Uso de E-mail e Segurança da Informação.pdf', 'total_pages': 1, 'format': 'PDF 1.4', 'title': 'Imersão: Política de Uso de E-mail e Segurança da Informação', 'author': '', 'subject': '', 'keywords': '', 'moddate': '', 'trapped': '', 'modDate': '', 'creationDate': '', 'page': 0}, page_content='5.\\u200b Solicitações de liberação de anexos ou domínios devem ser abertas por chamado, \\ncom justificativa do gestor.'),\n",
              " Document(metadata={'producer': 'Skia/PDF m140 Google Docs Renderer', 'creator': '', 'creationdate': '', 'source': '/Política de Reembolsos (Viagens e Despesas).pdf', 'file_path': '/Política de Reembolsos (Viagens e Despesas).pdf', 'total_pages': 1, 'format': 'PDF 1.4', 'title': 'Imersão: Política de Reembolsos (Viagens e Despesas)', 'author': '', 'subject': '', 'keywords': '', 'moddate': '', 'trapped': '', 'modDate': '', 'creationDate': '', 'page': 0}, page_content='Política de Reembolsos (Viagens e \\nDespesas) \\n \\n1.\\u200b Reembolso: requer nota fiscal e deve ser submetido em até 10 dias corridos após a \\ndespesa.\\u200b\\n \\n2.\\u200b Alimentação em viagem: limite de R$ 70/dia por pessoa. Bebidas alcoólicas não \\nsão reembolsáveis.\\u200b'),\n",
              " Document(metadata={'producer': 'Skia/PDF m140 Google Docs Renderer', 'creator': '', 'creationdate': '', 'source': '/Política de Reembolsos (Viagens e Despesas).pdf', 'file_path': '/Política de Reembolsos (Viagens e Despesas).pdf', 'total_pages': 1, 'format': 'PDF 1.4', 'title': 'Imersão: Política de Reembolsos (Viagens e Despesas)', 'author': '', 'subject': '', 'keywords': '', 'moddate': '', 'trapped': '', 'modDate': '', 'creationDate': '', 'page': 0}, page_content='são reembolsáveis.\\u200b\\n \\n3.\\u200b Transporte: táxi/app são permitidos quando não houver alternativa viável. \\nComprovantes obrigatórios.\\u200b\\n \\n4.\\u200b Internet para home office: reembolsável via subsídio mensal de até R$ 100, \\nconforme política de Home Office.\\u200b'),\n",
              " Document(metadata={'producer': 'Skia/PDF m140 Google Docs Renderer', 'creator': '', 'creationdate': '', 'source': '/Política de Reembolsos (Viagens e Despesas).pdf', 'file_path': '/Política de Reembolsos (Viagens e Despesas).pdf', 'total_pages': 1, 'format': 'PDF 1.4', 'title': 'Imersão: Política de Reembolsos (Viagens e Despesas)', 'author': '', 'subject': '', 'keywords': '', 'moddate': '', 'trapped': '', 'modDate': '', 'creationDate': '', 'page': 0}, page_content='5.\\u200b Cursos e certificações: exigem aprovação prévia do gestor e orçamento do time.\\u200b\\n \\n6.\\u200b Custos excepcionais (ex.: franquia de bagagem extra): devem ser justificados no \\nchamado e aprovados antes da compra.'),\n",
              " Document(metadata={'producer': 'Skia/PDF m140 Google Docs Renderer', 'creator': '', 'creationdate': '', 'source': '/Políticas de Home Office.pdf', 'file_path': '/Políticas de Home Office.pdf', 'total_pages': 1, 'format': 'PDF 1.4', 'title': 'Políticas de Home Office', 'author': '', 'subject': '', 'keywords': '', 'moddate': '', 'trapped': '', 'modDate': '', 'creationDate': '', 'page': 0}, page_content='Políticas de Home Office \\n \\n1.\\u200b A empresa adota modelo híbrido: mínimo de 2 dias presenciais por semana, salvo \\nexceções aprovadas pelo gestor e RH.\\u200b\\n \\n2.\\u200b Equipamentos: a empresa fornece notebook e periféricos. O colaborador é \\nresponsável por zelar pela conservação.\\u200b'),\n",
              " Document(metadata={'producer': 'Skia/PDF m140 Google Docs Renderer', 'creator': '', 'creationdate': '', 'source': '/Políticas de Home Office.pdf', 'file_path': '/Políticas de Home Office.pdf', 'total_pages': 1, 'format': 'PDF 1.4', 'title': 'Políticas de Home Office', 'author': '', 'subject': '', 'keywords': '', 'moddate': '', 'trapped': '', 'modDate': '', 'creationDate': '', 'page': 0}, page_content='3.\\u200b Segurança: é obrigatório uso de VPN e bloqueio de tela. Documentos confidenciais \\nnão devem ser impressos fora do escritório.\\u200b\\n \\n4.\\u200b Ergonomia: recomendamos cadeira adequada e suporte de monitor. O RH pode \\navaliar solicitação de apoio ergonômico.\\u200b'),\n",
              " Document(metadata={'producer': 'Skia/PDF m140 Google Docs Renderer', 'creator': '', 'creationdate': '', 'source': '/Políticas de Home Office.pdf', 'file_path': '/Políticas de Home Office.pdf', 'total_pages': 1, 'format': 'PDF 1.4', 'title': 'Políticas de Home Office', 'author': '', 'subject': '', 'keywords': '', 'moddate': '', 'trapped': '', 'modDate': '', 'creationDate': '', 'page': 0}, page_content='5.\\u200b Conectividade: há subsídio mensal de internet domiciliar para quem trabalha em \\nhome office: até R$ 100/mês, mediante nota fiscal nominal.\\u200b\\n \\n6.\\u200b Solicitação de exceção (ex.: 4-5 dias remotos): deve ser formalizada via chamado \\nao RH com justificativa do gestor.')]"
            ]
          },
          "metadata": {},
          "execution_count": 121
        }
      ]
    },
    {
      "cell_type": "markdown",
      "source": [
        "**Embeddings** -> são representações numéricas de texto (ou outros tipos de dados) em um espaço multidimensional. Eles capturam o significado semântico das palavras ou frases, de forma que palavras ou frases com significados semelhantes ficam próximas nesse espaço."
      ],
      "metadata": {
        "id": "-mDWeKgm1-Pg"
      }
    },
    {
      "cell_type": "code",
      "source": [
        "from langchain_google_genai import GoogleGenerativeAIEmbeddings\n",
        "\n",
        "embeddings = GoogleGenerativeAIEmbeddings(\n",
        "    model = \"models/gemini-embedding-001\",\n",
        "    google_api_key=GOOGLE_API_KEY\n",
        ")"
      ],
      "metadata": {
        "id": "L-hDPjUx2PJP"
      },
      "execution_count": 122,
      "outputs": []
    },
    {
      "cell_type": "markdown",
      "source": [
        " Esta célula configura a ferramenta que irá transformar os pedaços de texto (chunks) dos seus documentos em \"vetores\" ou \"embeddings\". Esses vetores são sequências de números que capturam o significado do texto. Depois, quando o usuário fizer uma pergunta, essa mesma ferramenta será usada para transformar a pergunta em um vetor, e o sistema buscará nos vetores dos chunks quais são os mais parecidos com o vetor da pergunta. Isso é o que permite que o sistema encontre os pedaços de documento mais relevantes para a pergunta, mesmo que as palavras exatas não sejam as mesmas."
      ],
      "metadata": {
        "id": "MyKFZfNwKbYa"
      }
    },
    {
      "cell_type": "code",
      "source": [
        "from langchain_community.vectorstores import FAISS\n",
        "\n",
        "vectorstore = FAISS.from_documents(chunks, embeddings)\n",
        "\n",
        "retriever = vectorstore.as_retriever(search_type = \"similarity_score_threshold\",\n",
        "                                     search_kwargs={\"score_threshold\":0.3, \"k\":4})"
      ],
      "metadata": {
        "id": "qN5eukUW4KUx"
      },
      "execution_count": 123,
      "outputs": []
    },
    {
      "cell_type": "markdown",
      "source": [
        "A partir do vectorstore (o seu catálogo de embeddings), você cria um retriever (um \"recuperador\" ou \"buscador\"). O retriever é a ferramenta que você realmente usará para buscar informações relevantes.\n",
        "vectorstore.as_retriever(...): Transforma o seu \"catálogo\" (vectorstore) em uma ferramenta de busca (retriever).\n",
        "search_type = \"similarity_score_threshold\": Define o tipo de busca. \"similarity_score_threshold\" significa que você quer buscar por pedaços de texto cujos embeddings são semelhantes ao embedding da sua pergunta, com base em um \"score de similaridade\"."
      ],
      "metadata": {
        "id": "4QME6XXgKp0h"
      }
    },
    {
      "cell_type": "code",
      "source": [
        "from langchain_core.prompts import ChatPromptTemplate\n",
        "from langchain.chains.combine_documents import create_stuff_documents_chain\n",
        "\n",
        "prompt_rag = ChatPromptTemplate.from_messages([\n",
        "    (\"system\",\n",
        "     \"Você é um Assistente de Políticas Internas (RH/IT) da empresa Carraro Desenvolvimento. \"\n",
        "     \"Responda SOMENTE com base no contexto fornecido. \"\n",
        "     \"Se não houver base suficiente, responda apenas 'Não tenho conhecimento para responder a essa pergunta'.\"),\n",
        "\n",
        "    (\"human\", \"Pergunta: {input}\\n\\nContexto:\\n{context}\")\n",
        "])\n",
        "\n",
        "document_chain = create_stuff_documents_chain(llm_triagem, prompt_rag)\n",
        "\n"
      ],
      "metadata": {
        "id": "O2Mgv_aeAZ8N"
      },
      "execution_count": 124,
      "outputs": []
    },
    {
      "cell_type": "markdown",
      "source": [
        "Esta cadeia faz o seguinte: ela pega a pergunta do usuário e os documentos relevantes encontrados pelo retriever, insere essas informações no modelo de prompt (prompt_rag) e envia o prompt completo para o modelo de linguagem (llm_triagem) para que ele gere a resposta final. A instrução no prompt (\"Responda SOMENTE com base no contexto fornecido\") é crucial para garantir que o modelo não \"invente\" informações que não estão nos documentos.\n",
        "\n",
        "Em resumo, esta célula configura como o modelo de linguagem deve usar a pergunta do usuário e os pedaços de documentos relevantes para gerar uma resposta coerente e baseada apenas nas informações fornecidas pelos documentos."
      ],
      "metadata": {
        "id": "DKn3U5CHLOxh"
      }
    },
    {
      "cell_type": "code",
      "source": [
        "# Formatadores\n",
        "import re, pathlib\n",
        "\n",
        "def _clean_text(s: str) -> str:\n",
        "    return re.sub(r\"\\s+\", \" \", s or \"\").strip()\n",
        "\n",
        "def extrair_trecho(texto: str, query: str, janela: int = 240) -> str:\n",
        "    txt = _clean_text(texto)\n",
        "    termos = [t.lower() for t in re.findall(r\"\\w+\", query or \"\") if len(t) >= 4]\n",
        "    pos = -1\n",
        "    for t in termos:\n",
        "        pos = txt.lower().find(t)\n",
        "        if pos != -1: break\n",
        "    if pos == -1: pos = 0\n",
        "    ini, fim = max(0, pos - janela//2), min(len(txt), pos + janela//2)\n",
        "    return txt[ini:fim]\n",
        "\n",
        "def formatar_citacoes(docs_rel: List, query: str) -> List[Dict]:\n",
        "    cites, seen = [], set()\n",
        "    for d in docs_rel:\n",
        "        src = pathlib.Path(d.metadata.get(\"source\",\"\")).name\n",
        "        page = int(d.metadata.get(\"page\", 0)) + 1\n",
        "        key = (src, page)\n",
        "        if key in seen:\n",
        "            continue\n",
        "        seen.add(key)\n",
        "        cites.append({\"documento\": src, \"pagina\": page, \"trecho\": extrair_trecho(d.page_content, query)})\n",
        "    return cites[:3]"
      ],
      "metadata": {
        "id": "pABm_cIrITzq"
      },
      "execution_count": 125,
      "outputs": []
    },
    {
      "cell_type": "code",
      "source": [
        "def  perguntar_politica_RAG(pergunta: str) -> Dict:\n",
        "  docs_relacionados = retriever.invoke(pergunta)\n",
        "\n",
        "  if not docs_relacionados:\n",
        "    return {\"answer\": \"Não tenho conhecimento para responder a essa pergunta.\",\n",
        "            \"citacoes\":[],\n",
        "            \"contexto_encontrado\": False}\n",
        "\n",
        "  answer = document_chain.invoke({\"input\": pergunta, \"context\": docs_relacionados})\n",
        "\n",
        "  txt = (answer or \"\").strip()\n",
        "\n",
        "  if txt.rstrip(\".!?\") == \"Não tenho conhecimento para responder a essa pergunta\":\n",
        "    return {\"answer\": \"Não tenho conhecimento para responder a essa pergunta\",\n",
        "            \"citacoes\":[],\n",
        "            \"contexto_encontrado\": False}\n",
        "\n",
        "  return {\"answer\": txt,\n",
        "          \"citacoes\": formatar_citacoes(docs_relacionados,pergunta),\n",
        "          \"contexto_encontrado\": True}"
      ],
      "metadata": {
        "id": "_fkHktMpDnq7"
      },
      "execution_count": 126,
      "outputs": []
    },
    {
      "cell_type": "markdown",
      "source": [
        "Em resumo, esta função é o motor do seu RAG. Ela primeiro busca por documentos relevantes, verifica se encontrou algo, envia os documentos relevantes para o modelo de linguagem gerar a resposta e, por fim, formata a resposta junto com as citações ou indica que não conseguiu responder se não houver contexto suficiente."
      ],
      "metadata": {
        "id": "rdmvrN4iLq_5"
      }
    },
    {
      "cell_type": "code",
      "source": [
        "testes = [\"Posso remlbolsar a internet?\",\n",
        "         \"Quero mais 5 dias de trabalho remoto como faço?\",\n",
        "         \"Posso rembolsar os treinamentos da Alura?\",\"Quantas capivaras tem em Rio Branco?\"]"
      ],
      "metadata": {
        "id": "TAOZMS_kHKzj"
      },
      "execution_count": 127,
      "outputs": []
    },
    {
      "cell_type": "code",
      "source": [
        "for msg_teste in testes:\n",
        "  resposta = perguntar_politica_RAG(msg_teste)\n",
        "  print(f\"PERGUNTA: {msg_teste}\")\n",
        "  print(f\"RESPOSTA: {resposta['answer']}\")\n",
        "  if resposta[\"contexto_encontrado\"]:\n",
        "    print(\"CITAÇÕES: \")\n",
        "    for c in resposta[\"citacoes\"]:\n",
        "      print(f\" - {c['documento']} (página {c['pagina']}): {c['trecho']}\")\n",
        "    print('-------------------------------')"
      ],
      "metadata": {
        "colab": {
          "base_uri": "https://localhost:8080/"
        },
        "id": "Yc3kdNYsHPL6",
        "outputId": "1c2f8623-2224-4813-fb36-a1c379346e9c"
      },
      "execution_count": 128,
      "outputs": [
        {
          "output_type": "stream",
          "name": "stdout",
          "text": [
            "PERGUNTA: Posso remlbolsar a internet?\n",
            "RESPOSTA: Sim, a internet para home office é reembolsável via subsídio mensal de até R$ 100, mediante nota fiscal nominal, para quem trabalha em home office.\n",
            "CITAÇÕES: \n",
            " - Política de Reembolsos (Viagens e Despesas).pdf (página 1): lsáveis.​ 3.​ Transporte: táxi/app são permitidos quando não houver alternativa viável. Comprovantes obrigatórios.​ 4.​ Internet para home office: reembolsável via subsídio mensal de até R$ 100, conforme política de Home Office.​\n",
            " - Políticas de Home Office.pdf (página 1): 5.​ Conectividade: há subsídio mensal de internet domiciliar para quem trabalha em home office: até R$ 100/mês, mediante nota fiscal nominal.​ 6.​ Solicitação de\n",
            "-------------------------------\n",
            "PERGUNTA: Quero mais 5 dias de trabalho remoto como faço?\n",
            "RESPOSTA: Para solicitar mais 5 dias de trabalho remoto, você deve formalizar a solicitação via chamado ao RH, com a justificativa do seu gestor.\n",
            "CITAÇÕES: \n",
            " - Políticas de Home Office.pdf (página 1):  para quem trabalha em home office: até R$ 100/mês, mediante nota fiscal nominal.​ 6.​ Solicitação de exceção (ex.: 4-5 dias remotos): deve ser formalizada via chamado ao RH com justificativa do gestor.\n",
            " - Política de Reembolsos (Viagens e Despesas).pdf (página 1): são reembolsáveis.​ 3.​ Transporte: táxi/app são permitidos quando não houver alternativa viável. Comprovantes obrigatór\n",
            "-------------------------------\n",
            "PERGUNTA: Posso rembolsar os treinamentos da Alura?\n",
            "RESPOSTA: Sim, cursos e certificações são reembolsáveis, desde que haja aprovação prévia do gestor e orçamento do time.\n",
            "CITAÇÕES: \n",
            " - Política de Reembolsos (Viagens e Despesas).pdf (página 1): Política de Reembolsos (Viagens e Despesas) 1.​ Reembolso: requer nota fiscal e deve ser submetido em até 10 dias corrid\n",
            " - Políticas de Home Office.pdf (página 1): Políticas de Home Office 1.​ A empresa adota modelo híbrido: mínimo de 2 dias presenciais por semana, salvo exceções apr\n",
            "-------------------------------\n",
            "PERGUNTA: Quantas capivaras tem em Rio Branco?\n",
            "RESPOSTA: Não tenho conhecimento para responder a essa pergunta\n"
          ]
        }
      ]
    },
    {
      "cell_type": "markdown",
      "source": [
        "# Parte 03\n"
      ],
      "metadata": {
        "id": "j0JsAebZE62K"
      }
    },
    {
      "cell_type": "code",
      "source": [
        "!pip install -q --upgrade langgraph"
      ],
      "metadata": {
        "id": "KHjSXo7w4R7X"
      },
      "execution_count": 129,
      "outputs": []
    },
    {
      "cell_type": "code",
      "source": [
        "from typing import TypedDict, Optional\n",
        "\n",
        "class AgentState(TypedDict, total = False):\n",
        "  pergunta: str\n",
        "  triagem: dict\n",
        "  resposta: Optional[str]\n",
        "  citacoes: List[dict]\n",
        "  rag_sucesso: bool\n",
        "  acao_final: str"
      ],
      "metadata": {
        "id": "_PlCfeWf6GX2"
      },
      "execution_count": 130,
      "outputs": []
    },
    {
      "cell_type": "markdown",
      "source": [],
      "metadata": {
        "id": "E9jYW6cbL4SZ"
      }
    },
    {
      "cell_type": "code",
      "source": [
        "def node_triagem(state: AgentState) -> AgentState:\n",
        "    print(\"Executando nó de triagem...\")\n",
        "    return {\"triagem\": triagem(state[\"pergunta\"])}\n"
      ],
      "metadata": {
        "id": "AfPxhywC8zMU"
      },
      "execution_count": 131,
      "outputs": []
    },
    {
      "cell_type": "code",
      "source": [
        "def node_auto_resolver(state: AgentState) -> AgentState:\n",
        "    print(\"Executando nó de auto_resolver...\")\n",
        "    resposta_rag = perguntar_politica_RAG(state[\"pergunta\"])\n",
        "\n",
        "    update: AgentState = {\n",
        "        \"resposta\": resposta_rag[\"answer\"],\n",
        "        \"citacoes\": resposta_rag.get(\"citacoes\", []),\n",
        "        \"rag_sucesso\": resposta_rag[\"contexto_encontrado\"],\n",
        "    }\n",
        "\n",
        "    if resposta_rag[\"contexto_encontrado\"]:\n",
        "        update[\"acao_final\"] = \"AUTO_RESOLVER\"\n",
        "\n",
        "    return update"
      ],
      "metadata": {
        "id": "GStzESpE-rom"
      },
      "execution_count": 132,
      "outputs": []
    },
    {
      "cell_type": "code",
      "source": [
        "def node_pedir_info(state: AgentState) -> AgentState:\n",
        "    print(\"Executando nó de pedir_info...\")\n",
        "    faltantes = state[\"triagem\"].get(\"campos_faltantes\", [])\n",
        "    if faltantes:\n",
        "        detalhe = \",\".join(faltantes)\n",
        "    else:\n",
        "        detalhe = \"Tema e contexto específico\"\n",
        "\n",
        "    return {\n",
        "        \"resposta\": f\"Para avançar, preciso que detalhe: {detalhe}\",\n",
        "        \"citacoes\": [],\n",
        "        \"acao_final\": \"PEDIR_INFO\"\n",
        "    }"
      ],
      "metadata": {
        "id": "eg_o1UcAAS4l"
      },
      "execution_count": 133,
      "outputs": []
    },
    {
      "cell_type": "code",
      "source": [
        "def node_abrir_chamado(state: AgentState) -> AgentState:\n",
        "    print(\"Executando nó de abrir_chamado...\")\n",
        "    triagem = state[\"triagem\"]\n",
        "\n",
        "    return {\n",
        "        \"resposta\": f\"Abrindo chamado com urgência {triagem['urgencia']}. Descrição: {state['pergunta'][:140]}\",\n",
        "        \"citacoes\": [],\n",
        "        \"acao_final\": \"ABRIR_CHAMADO\"\n",
        "    }"
      ],
      "metadata": {
        "id": "MivHuaY1CkRm"
      },
      "execution_count": 134,
      "outputs": []
    },
    {
      "cell_type": "code",
      "source": [
        "KEYWORDS_ABRIR_TICKET = [\"aprovação\", \"exceção\", \"liberação\", \"abrir ticket\", \"abrir chamado\", \"acesso especial\"]\n",
        "\n",
        "def decidir_pos_triagem(state: AgentState) -> str:\n",
        "    print(\"Decidindo após a triagem...\")\n",
        "    decisao = state[\"triagem\"][\"decisao\"]\n",
        "\n",
        "    if decisao == \"AUTO_RESOLVER\": return \"auto\"\n",
        "    if decisao == \"PEDIR_INFO\": return \"info\"\n",
        "    if decisao == \"ABRIR_CHAMADO\": return \"chamado\""
      ],
      "metadata": {
        "id": "Mc1875daD06e"
      },
      "execution_count": 135,
      "outputs": []
    },
    {
      "cell_type": "code",
      "source": [
        "def decidir_pos_auto_resolver(state: AgentState) -> str:\n",
        "    print(\"Decidindo após o auto_resolver...\")\n",
        "\n",
        "    if state.get(\"rag_sucesso\"):\n",
        "        print(\"Rag com sucesso, finalizando o fluxo.\")\n",
        "        return \"ok\"\n",
        "\n",
        "    state_da_pergunta = (state[\"pergunta\"] or \"\").lower()\n",
        "\n",
        "    if any(k in state_da_pergunta for k in KEYWORDS_ABRIR_TICKET):\n",
        "        print(\"Rag falhou, mas foram encontradas keywords de abertura de ticket. Abrindo...\")\n",
        "        return \"chamado\"\n",
        "\n",
        "    print(\"Rag falhou, sem keywords, vou pedir mais informações...\")\n",
        "    return \"info\""
      ],
      "metadata": {
        "id": "Zfh9IIAnF4eF"
      },
      "execution_count": 136,
      "outputs": []
    },
    {
      "cell_type": "code",
      "source": [
        "from langgraph.graph import StateGraph, START, END\n",
        "\n",
        "workflow = StateGraph(AgentState)\n",
        "\n",
        "workflow.add_node(\"triagem\", node_triagem)\n",
        "workflow.add_node(\"auto_resolver\", node_auto_resolver)\n",
        "workflow.add_node(\"pedir_info\", node_pedir_info)\n",
        "workflow.add_node(\"abrir_chamado\", node_abrir_chamado)\n",
        "\n",
        "workflow.add_edge(START, \"triagem\")\n",
        "workflow.add_conditional_edges(\"triagem\", decidir_pos_triagem, {\n",
        "    \"auto\": \"auto_resolver\",\n",
        "    \"info\": \"pedir_info\",\n",
        "    \"chamado\": \"abrir_chamado\"\n",
        "})\n",
        "\n",
        "workflow.add_conditional_edges(\"auto_resolver\", decidir_pos_auto_resolver, {\n",
        "    \"info\": \"pedir_info\",\n",
        "    \"chamado\": \"abrir_chamado\",\n",
        "    \"ok\": END\n",
        "})\n",
        "\n",
        "workflow.add_edge(\"pedir_info\", END)\n",
        "workflow.add_edge(\"abrir_chamado\", END)\n",
        "\n",
        "grafo = workflow.compile()"
      ],
      "metadata": {
        "id": "PW2dDiXRJFCt"
      },
      "execution_count": 137,
      "outputs": []
    },
    {
      "cell_type": "code",
      "source": [
        "from IPython.display import display, Image\n",
        "\n",
        "graph_bytes = grafo.get_graph().draw_mermaid_png()\n",
        "display(Image(graph_bytes))"
      ],
      "metadata": {
        "colab": {
          "base_uri": "https://localhost:8080/",
          "height": 497
        },
        "id": "VgK8N6sPNvX0",
        "outputId": "0994ac5b-45e7-40bf-b366-ad8e38a62230"
      },
      "execution_count": 138,
      "outputs": [
        {
          "output_type": "display_data",
          "data": {
            "image/png": "[encoded data removed]",
            "text/plain": [
              "<IPython.core.display.Image object>"
            ]
          },
          "metadata": {}
        }
      ]
    },
    {
      "cell_type": "code",
      "source": [
        "testes = [\"Posso remlbolsar a internet?\",\n",
        "         \"Quero mais 5 dias de trabalho remoto como faço?\",\n",
        "          \"Tem como reembolsar certificações do cloud\",\n",
        "          \"Posso ter o Gemini de graça?\"\n",
        "          \"Qual a palavra chave da aula de Hoje\",\n",
        "         \"Posso rembolsar os treinamentos da Alura?\",\"Quantas capivaras tem em Rio Branco?\"]"
      ],
      "metadata": {
        "id": "L9F_e35mOhNE"
      },
      "execution_count": 139,
      "outputs": []
    },
    {
      "cell_type": "code",
      "source": [
        "for msg_test in testes:\n",
        "    resposta_final = grafo.invoke({\"pergunta\": msg_test})\n",
        "\n",
        "    triag = resposta_final.get(\"triagem\", {})\n",
        "    print(f\"PERGUNTA: {msg_test}\")\n",
        "    print(f\"DECISÃO: {triag.get('decisao')} | URGÊNCIA: {triag.get('urgencia')} | AÇÃO FINAL: {resposta_final.get('acao_final')}\")\n",
        "    print(f\"RESPOSTA: {resposta_final.get('resposta')}\")\n",
        "    if resposta_final.get(\"citacoes\"):\n",
        "        print(\"CITAÇÕES:\")\n",
        "        for citacao in resposta_final.get(\"citacoes\"):\n",
        "            print(f\" - Documento: {citacao['documento']}, Página: {citacao['pagina']}\")\n",
        "            print(f\"   Trecho: {citacao['trecho']}\")\n",
        "\n",
        "    print(\"------------------------------------\")"
      ],
      "metadata": {
        "colab": {
          "base_uri": "https://localhost:8080/"
        },
        "id": "LntlymRZO77z",
        "outputId": "0dd19989-aa14-4661-d673-01d6a289f2ba"
      },
      "execution_count": 140,
      "outputs": [
        {
          "output_type": "stream",
          "name": "stdout",
          "text": [
            "Executando nó de triagem...\n",
            "Decidindo após a triagem...\n",
            "Executando nó de auto_resolver...\n",
            "Decidindo após o auto_resolver...\n",
            "Rag com sucesso, finalizando o fluxo.\n",
            "PERGUNTA: Posso remlbolsar a internet?\n",
            "DECISÃO: AUTO_RESOLVER | URGÊNCIA: BAIXA | AÇÃO FINAL: AUTO_RESOLVER\n",
            "RESPOSTA: Sim, a internet para home office é reembolsável via subsídio mensal de até R$ 100, mediante nota fiscal nominal.\n",
            "CITAÇÕES:\n",
            " - Documento: Política de Reembolsos (Viagens e Despesas).pdf, Página: 1\n",
            "   Trecho: lsáveis.​ 3.​ Transporte: táxi/app são permitidos quando não houver alternativa viável. Comprovantes obrigatórios.​ 4.​ Internet para home office: reembolsável via subsídio mensal de até R$ 100, conforme política de Home Office.​\n",
            " - Documento: Políticas de Home Office.pdf, Página: 1\n",
            "   Trecho: 5.​ Conectividade: há subsídio mensal de internet domiciliar para quem trabalha em home office: até R$ 100/mês, mediante nota fiscal nominal.​ 6.​ Solicitação de\n",
            "------------------------------------\n",
            "Executando nó de triagem...\n",
            "Decidindo após a triagem...\n",
            "Executando nó de abrir_chamado...\n",
            "PERGUNTA: Quero mais 5 dias de trabalho remoto como faço?\n",
            "DECISÃO: ABRIR_CHAMADO | URGÊNCIA: MEDIA | AÇÃO FINAL: ABRIR_CHAMADO\n",
            "RESPOSTA: Abrindo chamado com urgência MEDIA. Descrição: Quero mais 5 dias de trabalho remoto como faço?\n",
            "------------------------------------\n",
            "Executando nó de triagem...\n",
            "Decidindo após a triagem...\n",
            "Executando nó de auto_resolver...\n",
            "Decidindo após o auto_resolver...\n",
            "Rag com sucesso, finalizando o fluxo.\n",
            "PERGUNTA: Tem como reembolsar certificações do cloud\n",
            "DECISÃO: AUTO_RESOLVER | URGÊNCIA: BAIXA | AÇÃO FINAL: AUTO_RESOLVER\n",
            "RESPOSTA: Sim, cursos e certificações são reembolsáveis, desde que exijam aprovação prévia do gestor e orçamento do time.\n",
            "CITAÇÕES:\n",
            " - Documento: Política de Reembolsos (Viagens e Despesas).pdf, Página: 1\n",
            "   Trecho: Política de Reembolsos (Viagens e Despesas) 1.​ Reembolso: requer nota fiscal e deve ser submetido em até 10 dias corrid\n",
            " - Documento: Política de Uso de E-mail e Segurança da Informação.pdf, Página: 1\n",
            "   Trecho: 5.​ Solicitações de liberação de anexos ou domínios devem ser abertas por chamado, com justificativa do gestor.\n",
            "------------------------------------\n",
            "Executando nó de triagem...\n",
            "Decidindo após a triagem...\n",
            "Executando nó de auto_resolver...\n",
            "Decidindo após o auto_resolver...\n",
            "Rag falhou, sem keywords, vou pedir mais informações...\n",
            "Executando nó de pedir_info...\n",
            "PERGUNTA: Posso ter o Gemini de graça?Qual a palavra chave da aula de Hoje\n",
            "DECISÃO: AUTO_RESOLVER | URGÊNCIA: BAIXA | AÇÃO FINAL: PEDIR_INFO\n",
            "RESPOSTA: Para avançar, preciso que detalhe: Tema e contexto específico\n",
            "------------------------------------\n",
            "Executando nó de triagem...\n",
            "Decidindo após a triagem...\n",
            "Executando nó de auto_resolver...\n",
            "Decidindo após o auto_resolver...\n",
            "Rag com sucesso, finalizando o fluxo.\n",
            "PERGUNTA: Posso rembolsar os treinamentos da Alura?\n",
            "DECISÃO: AUTO_RESOLVER | URGÊNCIA: BAIXA | AÇÃO FINAL: AUTO_RESOLVER\n",
            "RESPOSTA: Sim, cursos e certificações (o que inclui treinamentos como os da Alura) são reembolsáveis, desde que haja aprovação prévia do gestor e orçamento do time.\n",
            "CITAÇÕES:\n",
            " - Documento: Política de Reembolsos (Viagens e Despesas).pdf, Página: 1\n",
            "   Trecho: Política de Reembolsos (Viagens e Despesas) 1.​ Reembolso: requer nota fiscal e deve ser submetido em até 10 dias corrid\n",
            " - Documento: Políticas de Home Office.pdf, Página: 1\n",
            "   Trecho: Políticas de Home Office 1.​ A empresa adota modelo híbrido: mínimo de 2 dias presenciais por semana, salvo exceções apr\n",
            "------------------------------------\n",
            "Executando nó de triagem...\n",
            "Decidindo após a triagem...\n",
            "Executando nó de pedir_info...\n",
            "PERGUNTA: Quantas capivaras tem em Rio Branco?\n",
            "DECISÃO: PEDIR_INFO | URGÊNCIA: BAIXA | AÇÃO FINAL: PEDIR_INFO\n",
            "RESPOSTA: Para avançar, preciso que detalhe: assunto_relevante_para_o_service_desk\n",
            "------------------------------------\n"
          ]
        }
      ]
    }
  ]
}
